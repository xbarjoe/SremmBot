{
 "cells": [
  {
   "cell_type": "code",
   "execution_count": 1,
   "metadata": {},
   "outputs": [],
   "source": [
    "import tweepy\n",
    "from PIL import Image\n",
    "import os\n",
    "#import pandas as pd\n",
    "import numpy as np\n",
    "import math\n",
    "import auth_keys\n",
    "import time\n",
    "import datetime"
   ]
  },
  {
   "cell_type": "code",
   "execution_count": 2,
   "metadata": {},
   "outputs": [],
   "source": [
    "idx = 0\n",
    "pix = 255,255,255\n"
   ]
  },
  {
   "cell_type": "code",
   "execution_count": null,
   "metadata": {},
   "outputs": [
    {
     "name": "stdout",
     "output_type": "stream",
     "text": [
      "Authentication OK\n",
      "Posted5\n",
      "Welp. Time to sleep...\n"
     ]
    }
   ],
   "source": [
    "auth = tweepy.OAuthHandler(auth_keys.oAuthH, auth_keys.oAuthH2)\n",
    "auth.set_access_token(auth_keys.access, auth_keys.access2)\n",
    "\n",
    "api = tweepy.API(auth)\n",
    "\n",
    "try:\n",
    "    api.verify_credentials()\n",
    "    print(\"Authentication OK\")\n",
    "except:\n",
    "    print(\"Error during authentication\")\n",
    "while True:\n",
    "    for i in range(0,5):\n",
    "        im = Image.open(\"sremm\"+str(idx)+\".png\")\n",
    "        pixels = im.load()\n",
    "        width, height = im.size\n",
    "        list_of_pixels = list(im.getdata())\n",
    "        if str(idx) != \"0\":\n",
    "            os.remove(\"sremm\"+str(idx)+\".png\") \n",
    "        for j in range(0,height-1):\n",
    "            list_of_pixels.insert(int(math.ceil(((width+1)*j)+(width/2))),pix)\n",
    "        newsize = (im.size[0]+1,im.size[1])\n",
    "        im2 = Image.new(im.mode, newsize)\n",
    "        im2.putdata(list_of_pixels)  \n",
    "        #im2.show()                            \n",
    "        idx+=1\n",
    "        im2.save(\"sremm\"+str(idx)+\".png\",\"PNG\")\n",
    "    media = api.media_upload(\"sremm\"+str(idx)+\".png\")\n",
    "    tweet = \"\"\n",
    "    post_result = api.update_status(status=tweet, media_ids=[media.media_id])\n",
    "    print(\"Posted\"+str(idx))\n",
    "    print(\"Welp. Time to sleep...\")\n",
    "    time.sleep(10600)\n",
    "    print(\"Welp. Time to post...\")"
   ]
  },
  {
   "cell_type": "code",
   "execution_count": null,
   "metadata": {},
   "outputs": [],
   "source": [
    "\n"
   ]
  },
  {
   "cell_type": "code",
   "execution_count": null,
   "metadata": {},
   "outputs": [],
   "source": []
  },
  {
   "cell_type": "code",
   "execution_count": null,
   "metadata": {},
   "outputs": [],
   "source": []
  },
  {
   "cell_type": "code",
   "execution_count": null,
   "metadata": {},
   "outputs": [],
   "source": []
  },
  {
   "cell_type": "code",
   "execution_count": null,
   "metadata": {},
   "outputs": [],
   "source": []
  },
  {
   "cell_type": "code",
   "execution_count": null,
   "metadata": {},
   "outputs": [],
   "source": []
  },
  {
   "cell_type": "code",
   "execution_count": null,
   "metadata": {},
   "outputs": [],
   "source": []
  },
  {
   "cell_type": "code",
   "execution_count": null,
   "metadata": {},
   "outputs": [],
   "source": []
  },
  {
   "cell_type": "code",
   "execution_count": null,
   "metadata": {},
   "outputs": [],
   "source": []
  },
  {
   "cell_type": "code",
   "execution_count": null,
   "metadata": {},
   "outputs": [],
   "source": [
    "\n"
   ]
  },
  {
   "cell_type": "code",
   "execution_count": null,
   "metadata": {},
   "outputs": [],
   "source": []
  },
  {
   "cell_type": "code",
   "execution_count": null,
   "metadata": {},
   "outputs": [],
   "source": []
  },
  {
   "cell_type": "code",
   "execution_count": null,
   "metadata": {},
   "outputs": [],
   "source": []
  }
 ],
 "metadata": {
  "kernelspec": {
   "display_name": "Python 3",
   "language": "python",
   "name": "python3"
  },
  "language_info": {
   "codemirror_mode": {
    "name": "ipython",
    "version": 3
   },
   "file_extension": ".py",
   "mimetype": "text/x-python",
   "name": "python",
   "nbconvert_exporter": "python",
   "pygments_lexer": "ipython3",
   "version": "3.7.6"
  }
 },
 "nbformat": 4,
 "nbformat_minor": 4
}
